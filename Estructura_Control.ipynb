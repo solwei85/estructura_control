{
 "cells": [
  {
   "cell_type": "markdown",
   "id": "8fe1595c",
   "metadata": {},
   "source": [
    "Sprint03 Tarea3"
   ]
  },
  {
   "cell_type": "code",
   "execution_count": 1,
   "id": "a3598042",
   "metadata": {},
   "outputs": [
    {
     "name": "stdout",
     "output_type": "stream",
     "text": [
      "Suspenso\n"
     ]
    }
   ],
   "source": [
    "#Ejercicio 1\n",
    "nota= 3\n",
    "if nota <0 or nota >10:\n",
    "    print (\"Error, la nota debe estar entre 0-10.\")\n",
    "else:\n",
    "    if nota== 10:\n",
    "        print (\"Excelente\")\n",
    "    elif nota< 10 and nota >=9:\n",
    "        print (\"Sobresaliente\")\n",
    "    elif nota< 9 and nota >=7:\n",
    "        print (\"Notable\")\n",
    "    elif nota <7 and nota >=5:\n",
    "        print(\"Aprobado\")\n",
    "    else:\n",
    "        print(\"Suspenso\")"
   ]
  },
  {
   "cell_type": "code",
   "execution_count": 2,
   "id": "caa1e52d",
   "metadata": {
    "scrolled": true
   },
   "outputs": [
    {
     "name": "stdout",
     "output_type": "stream",
     "text": [
      "Introduzca 2 numeros:\n",
      "5\n",
      "20\n",
      "El segundo numero es mas grande.\n"
     ]
    }
   ],
   "source": [
    "#Ejercicio 2\n",
    "print(\"Introduzca 2 numeros:\")\n",
    "num1= int(input())\n",
    "num2= int(input())\n",
    "if num1> num2:\n",
    "    print (\"El primer numero es mas grande.\")\n",
    "elif num2> num1:\n",
    "    print (\"El segundo numero es mas grande.\")\n",
    "else:\n",
    "    print (\"Ambos numeros son iguales\")"
   ]
  },
  {
   "cell_type": "code",
   "execution_count": 5,
   "id": "02666b8a",
   "metadata": {},
   "outputs": [
    {
     "name": "stdout",
     "output_type": "stream",
     "text": [
      "Intruduza su nombre:\n",
      "sol\n",
      "Introduzca un numero:\n",
      "3\n",
      "sol sol sol \n"
     ]
    }
   ],
   "source": [
    "#Ejercicio 3\n",
    "print (\"Intruduza su nombre:\")\n",
    "nombre= input()\n",
    "nombre1= nombre + \" \"\n",
    "print(\"Introduzca un numero:\")\n",
    "num3= int(input())\n",
    "if num3==0:\n",
    "    print (\"El numero tiene que ser mayor que cero\")\n",
    "else:\n",
    "    print(nombre1*num3)"
   ]
  },
  {
   "cell_type": "code",
   "execution_count": 6,
   "id": "f5b270bb",
   "metadata": {},
   "outputs": [
    {
     "name": "stdout",
     "output_type": "stream",
     "text": [
      "Lista simetrica, numero de elementos: \n",
      "5\n"
     ]
    }
   ],
   "source": [
    "#Ejercicio 4\n",
    "lista1=[1, 2, 3, 2, 1]\n",
    "lista2= list(reversed(lista1))\n",
    "if lista1==lista2:\n",
    "    print(\"Lista simetrica, numero de elementos: \")\n",
    "    print(len(lista1))\n",
    "else:\n",
    "    print(\"Lista asimetrica\")"
   ]
  },
  {
   "cell_type": "code",
   "execution_count": 7,
   "id": "f2430855",
   "metadata": {},
   "outputs": [
    {
     "name": "stdout",
     "output_type": "stream",
     "text": [
      "no coincide\n",
      "coincide\n",
      "no coincide\n",
      "no coincide\n",
      "coincide\n"
     ]
    }
   ],
   "source": [
    "#Ejercicio 5\n",
    "lista3=[1, 1, 5, 7, 4]\n",
    "i=0\n",
    "while i< len(lista3):\n",
    "    if lista3[i]==i:\n",
    "        print (\"coincide\")\n",
    "    else:\n",
    "        print (\"no coincide\")\n",
    "    i=i+1"
   ]
  },
  {
   "cell_type": "code",
   "execution_count": null,
   "id": "032e9cbe",
   "metadata": {},
   "outputs": [],
   "source": []
  }
 ],
 "metadata": {
  "kernelspec": {
   "display_name": "Python 3",
   "language": "python",
   "name": "python3"
  },
  "language_info": {
   "codemirror_mode": {
    "name": "ipython",
    "version": 3
   },
   "file_extension": ".py",
   "mimetype": "text/x-python",
   "name": "python",
   "nbconvert_exporter": "python",
   "pygments_lexer": "ipython3",
   "version": "3.8.8"
  }
 },
 "nbformat": 4,
 "nbformat_minor": 5
}
